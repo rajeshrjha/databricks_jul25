{
 "cells": [
  {
   "cell_type": "code",
   "execution_count": 0,
   "metadata": {
    "application/vnd.databricks.v1+cell": {
     "cellMetadata": {
      "byteLimit": 2048000,
      "implicitDf": true,
      "rowLimit": 10000
     },
     "inputWidgets": {},
     "nuid": "e5da3be5-ea62-46fa-9ee1-986a0211559f",
     "showTitle": false,
     "tableResultSettingsMap": {},
     "title": ""
    }
   },
   "outputs": [],
   "source": [
    "%sql\n",
    "create or replace view jpmc.rajesh_gold.top_3_cust as \n",
    "select customer_id, round(sum(total_amount),2) as total_amount\n",
    "from jpmc.rajesh_silver.sales_cleaned\n",
    "group by customer_id\n",
    "order by total_amount desc\n",
    "limit 3"
   ]
  },
  {
   "cell_type": "code",
   "execution_count": 0,
   "metadata": {
    "application/vnd.databricks.v1+cell": {
     "cellMetadata": {
      "byteLimit": 2048000,
      "implicitDf": true,
      "rowLimit": 10000
     },
     "inputWidgets": {},
     "nuid": "83bad064-b777-4558-860e-f9ffd0d440b4",
     "showTitle": false,
     "tableResultSettingsMap": {},
     "title": ""
    }
   },
   "outputs": [],
   "source": [
    "%sql\n",
    "select * from jpmc.rajesh_gold.top_3_cust"
   ]
  },
  {
   "cell_type": "code",
   "execution_count": 0,
   "metadata": {
    "application/vnd.databricks.v1+cell": {
     "cellMetadata": {
      "byteLimit": 2048000,
      "implicitDf": true,
      "rowLimit": 10000
     },
     "inputWidgets": {},
     "nuid": "ddd7c4f5-0c11-4c34-8675-8666cb5649b4",
     "showTitle": false,
     "tableResultSettingsMap": {},
     "title": ""
    }
   },
   "outputs": [],
   "source": [
    "%sql\n",
    "create or replace view jpmc.rajesh_gold.insights as\n",
    "(select \n",
    "  count(distinct customer_id) as total_customers,\n",
    "  round(sum(total_amount), 2) as total_sales,\n",
    "  round(avg(total_amount), 2) as average_sales_per_transaction,\n",
    "  max(total_amount) as highest_single_transaction,\n",
    "  min(total_amount) as lowest_single_transaction\n",
    "from jpmc.rajesh_silver.sales_cleaned)"
   ]
  }
 ],
 "metadata": {
  "application/vnd.databricks.v1+notebook": {
   "computePreferences": null,
   "dashboards": [],
   "environmentMetadata": {
    "base_environment": "",
    "environment_version": "2"
   },
   "inputWidgetPreferences": null,
   "language": "python",
   "notebookMetadata": {
    "mostRecentlyExecutedCommandWithImplicitDF": {
     "commandId": 6420462069848260,
     "dataframes": [
      "_sqldf"
     ]
    },
    "pythonIndentUnit": 4
   },
   "notebookName": "gold",
   "widgets": {}
  },
  "language_info": {
   "name": "python"
  }
 },
 "nbformat": 4,
 "nbformat_minor": 0
}
